{
  "nbformat": 4,
  "nbformat_minor": 0,
  "metadata": {
    "colab": {
      "provenance": []
    },
    "kernelspec": {
      "name": "python3",
      "display_name": "Python 3"
    },
    "language_info": {
      "name": "python"
    }
  },
  "cells": [
    {
      "cell_type": "markdown",
      "source": [
        "Implement Gradient Descent Algorithm to find the local minima of a function.\n",
        "For example, find the local minima of the function y=(x+3)² starting from the point x=2.\n"
      ],
      "metadata": {
        "id": "4O7uVZfob3EL"
      }
    },
    {
      "cell_type": "code",
      "source": [
        "current_x = 2\n",
        "rate = 0.01\n",
        "precision = 0.000001\n",
        "previous_step_size = 1\n",
        "max_iterations = 100\n",
        "iterations = 0\n",
        "df = lambda x : (x+3) * 2 "
      ],
      "metadata": {
        "id": "sph6wxAbb7YX"
      },
      "execution_count": 5,
      "outputs": []
    },
    {
      "cell_type": "code",
      "source": [
        "while previous_step_size > precision and iterations < max_iterations:\n",
        "  previous_x = current_x\n",
        "  current_x -= rate * df(previous_x)\n",
        "  previous_step_size = abs(previous_x - current_x)\n",
        "  iterations += 1\n",
        "\n",
        "print(\"local minima occurs at:\", current_x)"
      ],
      "metadata": {
        "colab": {
          "base_uri": "https://localhost:8080/"
        },
        "id": "_YOzvIPTc0_7",
        "outputId": "e77747c1-345e-4ceb-91c0-d487bfce8042"
      },
      "execution_count": 7,
      "outputs": [
        {
          "output_type": "stream",
          "name": "stdout",
          "text": [
            "local minima occurs at: -2.336902220526235\n"
          ]
        }
      ]
    }
  ]
}